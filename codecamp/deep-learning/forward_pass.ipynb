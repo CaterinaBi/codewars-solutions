{
 "cells": [
  {
   "cell_type": "markdown",
   "metadata": {},
   "source": [
    "I will initialize 3 large random tensors, and then do the operations as given in the computational graph below: \n",
    "\n",
    "![Image of a computational graph](images/comp_graph.png)\n",
    "\n",
    "The final operation is the mean of the tensor, given by torch.mean(your_tensor)."
   ]
  },
  {
   "cell_type": "code",
   "execution_count": 1,
   "metadata": {},
   "outputs": [
    {
     "name": "stdout",
     "output_type": "stream",
     "text": [
      "tensor(125.0700)\n"
     ]
    }
   ],
   "source": [
    "import torch\n",
    "# Initialize tensors x, y and z\n",
    "x = torch.rand(1000, 1000)\n",
    "y = torch.rand(1000, 1000)\n",
    "z = torch.rand(1000, 1000)\n",
    "\n",
    "# Multiply x with y\n",
    "q = torch.matmul(x, y)\n",
    "\n",
    "# Multiply elementwise z with q\n",
    "f = z * q\n",
    "\n",
    "mean_f = torch.mean(f)\n",
    "print(mean_f)"
   ]
  }
 ],
 "metadata": {
  "interpreter": {
   "hash": "515806d7a825da3e5555672e594ff7d71c690a5e1a3aea165a6146df671bb953"
  },
  "kernelspec": {
   "display_name": "Python 3.10.6 ('deep-learning')",
   "language": "python",
   "name": "python3"
  },
  "language_info": {
   "codemirror_mode": {
    "name": "ipython",
    "version": 3
   },
   "file_extension": ".py",
   "mimetype": "text/x-python",
   "name": "python",
   "nbconvert_exporter": "python",
   "pygments_lexer": "ipython3",
   "version": "3.10.6"
  },
  "orig_nbformat": 4
 },
 "nbformat": 4,
 "nbformat_minor": 2
}
