{
 "cells": [
  {
   "cell_type": "markdown",
   "metadata": {},
   "source": [
    "Random tensors are very important in neural networks. Parameters of the neural networks typically are initialized with random weights (random tensors).\n",
    "\n",
    "Here, I practice building tensors in PyTorch library. Tensors are arrays with an arbitrary number of dimensions, corresponding to NumPy's ndarrays."
   ]
  },
  {
   "cell_type": "code",
   "execution_count": 1,
   "metadata": {},
   "outputs": [
    {
     "name": "stdout",
     "output_type": "stream",
     "text": [
      "tensor([[0.2332, 0.1965, 0.1487],\n",
      "        [0.9902, 0.8521, 0.4828],\n",
      "        [0.7411, 0.6419, 0.3703]])\n",
      "torch.Size([3, 3])\n"
     ]
    }
   ],
   "source": [
    "# Import torch\n",
    "import torch\n",
    "\n",
    "# Create random tensor of size 3 by 3\n",
    "your_first_tensor = torch.rand(3, 3)\n",
    "\n",
    "# Calculate the shape of the tensor\n",
    "tensor_size = your_first_tensor.size()\n",
    "\n",
    "# Print the values of the tensor and its shape\n",
    "print(your_first_tensor)\n",
    "print(tensor_size)"
   ]
  },
  {
   "cell_type": "code",
   "execution_count": 2,
   "metadata": {},
   "outputs": [
    {
     "name": "stdout",
     "output_type": "stream",
     "text": [
      "tensor([[8.2833e-01, 6.7447e-01, 7.3210e-01, 9.7813e-01, 9.4091e-01, 5.5319e-01,\n",
      "         3.6463e-01, 6.4723e-01, 3.7808e-01, 9.6175e-02, 9.0030e-01, 6.7813e-01],\n",
      "        [4.1751e-01, 6.2973e-01, 9.3754e-01, 1.1149e-01, 1.3856e-01, 6.5952e-01,\n",
      "         8.7690e-01, 8.9599e-01, 9.6586e-01, 7.6704e-01, 2.9962e-01, 3.8977e-01],\n",
      "        [7.7702e-01, 9.6995e-02, 4.0054e-01, 6.7519e-01, 2.5989e-01, 5.5135e-01,\n",
      "         3.2683e-01, 7.4911e-01, 4.6773e-01, 6.7399e-01, 9.5681e-02, 3.8753e-01],\n",
      "        [8.2382e-01, 5.7221e-01, 5.3255e-02, 9.4464e-01, 1.9856e-02, 7.5181e-01,\n",
      "         6.0125e-01, 9.9554e-01, 6.8850e-01, 3.5617e-01, 7.2689e-01, 9.5721e-01],\n",
      "        [5.9606e-02, 1.5956e-01, 5.2426e-01, 9.2880e-01, 9.9457e-01, 7.7843e-01,\n",
      "         8.1556e-01, 7.4749e-01, 1.3099e-01, 1.6016e-04, 3.3079e-01, 7.3814e-01],\n",
      "        [2.5039e-01, 1.6223e-01, 8.6026e-01, 8.9026e-01, 8.8557e-01, 4.6352e-01,\n",
      "         5.5697e-01, 8.8522e-01, 9.7585e-02, 4.4863e-01, 3.8483e-01, 4.1307e-01],\n",
      "        [3.4437e-03, 1.0005e-01, 5.0234e-01, 2.7093e-01, 7.1532e-01, 2.4352e-01,\n",
      "         3.7342e-01, 5.2461e-01, 4.5338e-01, 9.6811e-02, 5.6344e-04, 5.4890e-01],\n",
      "        [5.6433e-01, 1.7274e-01, 7.2881e-01, 5.0820e-01, 7.3121e-01, 2.2640e-01,\n",
      "         6.3510e-01, 3.2427e-02, 3.9042e-01, 7.1011e-01, 6.5629e-01, 5.2221e-02],\n",
      "        [1.9081e-01, 4.2439e-01, 1.6437e-01, 9.7323e-01, 5.9940e-01, 3.9051e-01,\n",
      "         1.7511e-01, 6.8816e-02, 2.4324e-01, 9.0508e-01, 5.6509e-01, 6.3401e-03],\n",
      "        [2.1147e-01, 8.2501e-02, 9.2361e-01, 2.2491e-01, 2.2788e-01, 9.8682e-01,\n",
      "         4.1906e-01, 9.4074e-01, 8.9233e-01, 8.0153e-01, 6.0752e-01, 8.9746e-01],\n",
      "        [5.2882e-01, 7.4048e-02, 5.6976e-01, 9.9037e-01, 8.8394e-05, 9.1784e-01,\n",
      "         1.0474e-01, 5.0133e-01, 9.2523e-01, 2.2681e-01, 9.7701e-01, 4.0798e-01],\n",
      "        [3.7613e-01, 1.9847e-01, 1.0368e-01, 1.8047e-01, 9.8885e-01, 9.5903e-01,\n",
      "         2.8355e-01, 1.4685e-01, 3.6904e-02, 2.0102e-01, 2.3060e-01, 4.2119e-01]])\n",
      "torch.Size([12, 12])\n"
     ]
    }
   ],
   "source": [
    "my_second_tensor = torch.rand(12, 12)\n",
    "\n",
    "my_second_tensor_size = my_second_tensor.size()\n",
    "\n",
    "print(my_second_tensor)\n",
    "print(my_second_tensor_size)"
   ]
  }
 ],
 "metadata": {
  "interpreter": {
   "hash": "515806d7a825da3e5555672e594ff7d71c690a5e1a3aea165a6146df671bb953"
  },
  "kernelspec": {
   "display_name": "Python 3.10.6 ('deep-learning')",
   "language": "python",
   "name": "python3"
  },
  "language_info": {
   "codemirror_mode": {
    "name": "ipython",
    "version": 3
   },
   "file_extension": ".py",
   "mimetype": "text/x-python",
   "name": "python",
   "nbconvert_exporter": "python",
   "pygments_lexer": "ipython3",
   "version": "3.10.6"
  },
  "orig_nbformat": 4
 },
 "nbformat": 4,
 "nbformat_minor": 2
}
