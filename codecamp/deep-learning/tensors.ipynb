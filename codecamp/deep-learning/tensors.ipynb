{
 "cells": [
  {
   "cell_type": "markdown",
   "metadata": {},
   "source": [
    "Random tensors are very important in neural networks. Parameters of the neural networks typically are initialized with random weights (random tensors).\n",
    "\n",
    "Here, I practice building tensors in PyTorch library. Tensors are arrays with an arbitrary number of dimensions, corresponding to NumPy's ndarrays."
   ]
  },
  {
   "cell_type": "code",
   "execution_count": null,
   "metadata": {},
   "outputs": [],
   "source": [
    "# Import torch\n",
    "import torch\n",
    "\n",
    "# Create random tensor of size 3 by 3\n",
    "your_first_tensor = torch.rand(3, 3)\n",
    "\n",
    "# Calculate the shape of the tensor\n",
    "tensor_size = your_first_tensor.size()\n",
    "\n",
    "# Print the values of the tensor and its shape\n",
    "print(your_first_tensor)\n",
    "print(tensor_size)"
   ]
  }
 ],
 "metadata": {
  "language_info": {
   "name": "python"
  },
  "orig_nbformat": 4
 },
 "nbformat": 4,
 "nbformat_minor": 2
}
