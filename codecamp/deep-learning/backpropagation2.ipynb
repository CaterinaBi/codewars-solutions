{
 "cells": [
  {
   "cell_type": "markdown",
   "metadata": {},
   "source": [
    "I will initialize 3 large random tensors, and then do the operations as given in the computational graph below: \n",
    "\n",
    "![Image of a computational graph](images/comp_graph.png)\n",
    "\n",
    "The final operation is the mean of the tensor, given by torch.mean(your_tensor)."
   ]
  },
  {
   "cell_type": "code",
   "execution_count": 6,
   "metadata": {},
   "outputs": [
    {
     "name": "stderr",
     "output_type": "stream",
     "text": [
      "/var/folders/j0/65tsv5t54nqf1fn684hcdmt80000gn/T/ipykernel_98833/3609918814.py:4: UserWarning: To copy construct from a tensor, it is recommended to use sourceTensor.clone().detach() or sourceTensor.clone().detach().requires_grad_(True), rather than torch.tensor(sourceTensor).\n",
      "  x = torch.tensor(torch.rand(1000, 1000), requires_grad=True)\n",
      "/var/folders/j0/65tsv5t54nqf1fn684hcdmt80000gn/T/ipykernel_98833/3609918814.py:5: UserWarning: To copy construct from a tensor, it is recommended to use sourceTensor.clone().detach() or sourceTensor.clone().detach().requires_grad_(True), rather than torch.tensor(sourceTensor).\n",
      "  y = torch.tensor(torch.rand(1000, 1000), requires_grad=True)\n",
      "/var/folders/j0/65tsv5t54nqf1fn684hcdmt80000gn/T/ipykernel_98833/3609918814.py:6: UserWarning: To copy construct from a tensor, it is recommended to use sourceTensor.clone().detach() or sourceTensor.clone().detach().requires_grad_(True), rather than torch.tensor(sourceTensor).\n",
      "  z = torch.tensor(torch.rand(1000, 1000), requires_grad=True)\n"
     ]
    }
   ],
   "source": [
    "import torch\n",
    "\n",
    "# Initialize tensors x, y and z\n",
    "x = torch.tensor(torch.rand(1000, 1000), requires_grad=True)\n",
    "y = torch.tensor(torch.rand(1000, 1000), requires_grad=True)\n",
    "z = torch.tensor(torch.rand(1000, 1000), requires_grad=True)"
   ]
  },
  {
   "cell_type": "markdown",
   "metadata": {},
   "source": [
    "I now calculate the gradients."
   ]
  },
  {
   "cell_type": "code",
   "execution_count": 7,
   "metadata": {},
   "outputs": [
    {
     "name": "stdout",
     "output_type": "stream",
     "text": [
      "tensor(124.7904, grad_fn=<MeanBackward0>)\n",
      "None\n",
      "tensor([[0.0002, 0.0002, 0.0003,  ..., 0.0002, 0.0002, 0.0002],\n",
      "        [0.0003, 0.0003, 0.0003,  ..., 0.0003, 0.0002, 0.0003],\n",
      "        [0.0003, 0.0003, 0.0003,  ..., 0.0002, 0.0002, 0.0002],\n",
      "        ...,\n",
      "        [0.0003, 0.0003, 0.0003,  ..., 0.0002, 0.0003, 0.0003],\n",
      "        [0.0003, 0.0003, 0.0003,  ..., 0.0002, 0.0002, 0.0002],\n",
      "        [0.0003, 0.0003, 0.0003,  ..., 0.0003, 0.0003, 0.0003]])\n",
      "tensor([[0.0003, 0.0003, 0.0002,  ..., 0.0002, 0.0003, 0.0003],\n",
      "        [0.0003, 0.0002, 0.0002,  ..., 0.0002, 0.0003, 0.0002],\n",
      "        [0.0003, 0.0003, 0.0002,  ..., 0.0002, 0.0003, 0.0002],\n",
      "        ...,\n",
      "        [0.0003, 0.0003, 0.0002,  ..., 0.0002, 0.0003, 0.0002],\n",
      "        [0.0002, 0.0002, 0.0002,  ..., 0.0002, 0.0002, 0.0002],\n",
      "        [0.0003, 0.0002, 0.0002,  ..., 0.0002, 0.0002, 0.0002]])\n",
      "tensor([[0.0003, 0.0002, 0.0002,  ..., 0.0002, 0.0003, 0.0002],\n",
      "        [0.0002, 0.0002, 0.0002,  ..., 0.0002, 0.0002, 0.0002],\n",
      "        [0.0003, 0.0002, 0.0003,  ..., 0.0003, 0.0003, 0.0003],\n",
      "        ...,\n",
      "        [0.0003, 0.0002, 0.0003,  ..., 0.0003, 0.0003, 0.0003],\n",
      "        [0.0003, 0.0002, 0.0003,  ..., 0.0002, 0.0002, 0.0003],\n",
      "        [0.0003, 0.0002, 0.0003,  ..., 0.0002, 0.0003, 0.0003]])\n"
     ]
    }
   ],
   "source": [
    "# Multiply tensors x and y\n",
    "q = torch.matmul(x, y)\n",
    "\n",
    "# Elementwise multiply tensors z with q\n",
    "f = z * q\n",
    "\n",
    "mean_f = torch.mean(f)\n",
    "print(mean_f)\n",
    "\n",
    "# Calculate the gradients\n",
    "print(mean_f.backward())\n",
    "\n",
    "print(x.grad)\n",
    "print(y.grad)\n",
    "print(z.grad)"
   ]
  }
 ],
 "metadata": {
  "interpreter": {
   "hash": "515806d7a825da3e5555672e594ff7d71c690a5e1a3aea165a6146df671bb953"
  },
  "kernelspec": {
   "display_name": "Python 3.10.6 ('deep-learning')",
   "language": "python",
   "name": "python3"
  },
  "language_info": {
   "codemirror_mode": {
    "name": "ipython",
    "version": 3
   },
   "file_extension": ".py",
   "mimetype": "text/x-python",
   "name": "python",
   "nbconvert_exporter": "python",
   "pygments_lexer": "ipython3",
   "version": "3.10.6"
  },
  "orig_nbformat": 4
 },
 "nbformat": 4,
 "nbformat_minor": 2
}
