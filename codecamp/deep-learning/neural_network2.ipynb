{
 "cells": [
  {
   "cell_type": "markdown",
   "metadata": {},
   "source": [
    "I am going to build the same neural network I built in `neural_network.ipynb`, but now using the PyTorch way. As a reminder, I have 784 units in the input layer, 200 hidden units and 10 units for the output layer."
   ]
  }
 ],
 "metadata": {
  "language_info": {
   "name": "python"
  },
  "orig_nbformat": 4
 },
 "nbformat": 4,
 "nbformat_minor": 2
}
