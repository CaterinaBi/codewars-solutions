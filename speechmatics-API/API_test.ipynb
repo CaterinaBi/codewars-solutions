{
 "cells": [
  {
   "cell_type": "markdown",
   "metadata": {},
   "source": [
    "In this file, I'll transcribe `audio.mp3` using the SpeechMatics speech-to-text API."
   ]
  },
  {
   "cell_type": "code",
   "execution_count": 26,
   "metadata": {},
   "outputs": [
    {
     "name": "stdout",
     "output_type": "stream",
     "text": [
      "c5bmeknnaz\n"
     ]
    }
   ],
   "source": [
    "from speechmatics.models import ConnectionSettings\n",
    "from speechmatics.batch_client import BatchClient\n",
    "\n",
    "settings = ConnectionSettings(\n",
    "    url='https://asr.api.speechmatics.com/v2',\n",
    "    auth_token='QrBgPAABC1XdS1zps3SysdOY4ReIFUjD',\n",
    "    ssl_context=None,\n",
    ")\n",
    "client = BatchClient(settings)\n",
    "client.connect()\n",
    "\n",
    "job_id = client.submit_job(\n",
    "    audio=\"audio.mp3\",\n",
    "    transcription_config=\"config.json\"\n",
    ")\n",
    "\n",
    "print(job_id)"
   ]
  },
  {
   "cell_type": "code",
   "execution_count": 36,
   "metadata": {},
   "outputs": [
    {
     "name": "stdout",
     "output_type": "stream",
     "text": [
      "['Bonjour', ',', \"c'est\", 'Laurent', 'Ruquier', 'et', \"l'émission\", 'des', 'Grosses', 'Têtes', 'vient', 'de', 'se', 'terminer', 'sur', 'RTL', '.', 'Mais', 'en', 'exclusivité', 'pour', 'vous', ',', 'chers', 'auditeurs', ',', 'je', 'vous', 'propose', \"d'écouter\", 'le', 'débrief', 'animé', 'par', 'une', 'des', 'Grosses', 'têtes', 'du', 'jour', 'au', 'micro', 'de', 'Rachel', 'Azria', '.', \"C'est\", 'parti', '!', 'Bonjour', '.', 'Emeline', 'Bayart', '.', 'Bonjour', '.', \"C'était\", 'votre', 'deuxième', 'émission', \"aujourd'hui\", '?', 'Oui', '.', 'Est', 'ce', 'que', 'vous', 'vous', 'êtes', 'senti', 'plus', 'à', \"l'aise\", \"qu'hier\", '?', 'Différemment', '.', \"C'était\", 'différent', ',', \"c'était\", 'complètement', 'différent', '.', 'Les', ',', 'les', 'intervenants', 'avec', 'des', 'personnalités', 'extrêmement', 'différentes', '.', 'Et', 'je', 'dirais', 'que', 'oui', ',', \"j'étais\", 'un', 'peu', 'plus', 'à', \"l'aise\", '.', 'Mais', \"j'étais\", 'surtout', 'contente', 'de', 'me', 'rendre', 'compte', 'que', 'grâce', 'aux', 'intervenants', ',', 'on', 'pouvait', 'rire', 'de', 'manière', 'complètement', 'différente', '.', 'Vous', 'avez', 'fait', 'équipe', 'avec', 'avec', \"l'élément\", 'perturbateur', '?', 'Sébastian', 'Noens', '.', 'Comment', 'ça', \"s'est\", 'passé', '?', \"C'est\", 'difficile', '.', 'Il', 'est', 'très', 'fort', ',', 'il', 'est', 'très', 'drôle', '.', 'Ecoutez', ',', 'oui', ',', 'je', 'pense', 'que', 'ça', \"s'est\", 'plutôt', 'bien', 'passé', '.', 'Il', 'vous', 'a', 'bien', 'aimé', ',', 'Il', 'vous', 'a', 'taquiné', 'quand', 'même', '?', 'Oui', ',', 'oui', ',', 'il', 'est', 'taquin', '.', 'Oui', ',', \"l'attaquant\", '.', 'Quelle', 'a', 'été', 'votre', 'réaction', 'lorsque', 'Laurent', 'vous', 'a', 'invité', 'dans', \"l'émission\", '?', \"J'ai\", 'du', 'mal', 'à', 'le', 'croire', '.', 'Au', 'départ', ',', 'je', 'pensais', 'que', \"c'était\", 'pour', 'être', 'interviewé', ',', 'donc', 'je', '.', \"J'ai\", 'un', 'peu', 'bogué', '.', 'Et', 'puis', \"j'ai\", 'accepté', 'avec', 'plaisir', '.', 'Vous', 'écoutez', 'déjà', \"l'émission\", 'avant', ',', 'avant', 'de', 'devenir', '.', 'De', 'temps', 'en', 'temps', '.', \"J'ai\", 'écouté', 'cette', 'émission', 'de', 'temps', 'en', 'temps', 'et', 'surtout', ',', 'je', 'la', 'connaissais', 'depuis', 'très', 'longtemps', 'parce', 'que', 'mon', 'grand', 'père', 'écoutait', 'et', 'il', 'était', 'fan', 'de', 'Jean', 'Lefebvre', ',', 'figurez', 'vous', ',', 'et', \"j'en\", 'ai', 'fait', 'qui', 'était', 'un', 'des', 'piliers', 'il', 'y', 'a', 'quelques', 'décennies', 'quand', 'même', '.', 'Donc', ',', 'vous', 'avez', 'gardé', 'un', 'petit', 'peu', 'la', 'lignée', 'de', 'la', 'famille', '?', 'Voilà', 'exactement', 'en', 'plus', 'ce', 'qui', 'va', 'diminuer', \"d'une\", 'Nord', 'en', 'plus', '.', \"C'est\", 'pour', 'ça', 'que', 'mon', 'grand', 'père', \"l'adorait\", '.', \"C'est\", 'plus', 'stressant', \"d'être\", 'sur', 'la', 'scène', 'des', 'Grosses', 'Têtes', 'ou', \"d'être\", 'sur', 'scène', 'tout', 'court', '.', 'Ça', \"n'a\", 'absolument', 'rien', 'à', 'voir', '.', 'Les', 'Grosses', 'Têtes', ',', \"c'est\", 'beaucoup', 'de', 'surprises', 'avec', 'les', 'questions', ',', 'avec', 'les', 'impros', '.', 'La', 'scène', ',', \"c'est\", 'pas', 'de', \"l'impro\", 'du', 'tout', ',', \"c'est\", 'ça', 'se', 'travaille', '.', 'Et', 'donc', 'on', 'arrive', 'le', 'jour', 'de', 'la', 'première', ',', 'complètement', 'prêt', '.', 'Donc', 'effectivement', ',', 'ce', \"n'est\", 'pas', 'du', 'tout', 'le', 'même', 'rapport', '.', 'Vous', 'avez', 'quand', 'même', 'révisé', \"l'actualité\", 'là', 'sur', 'les', 'deux', 'jours', 'en', 'arrière', '.', 'Et', \"aujourd'hui\", '?', 'Oui', ',', \"j'avais\", 'un', 'peu', ',', \"j'avais\", 'un', 'peu', 'révisé', '.', \"J'aurais\", 'pu', 'répondre', 'aux', 'questions', 'si', \"j'avais\", 'été', 'sollicité', '.', 'En', 'trois', 'mots', ',', 'comment', 'vous', 'décrivez', 'votre', 'expérience', '?', 'Grosse', 'tête', '.', 'Alors', '?', 'Explosif', '.', 'Très', 'drôle', 'et', 'très', 'chaleureux', '.', 'Émeline', 'Je', 'vous', 'laisse', 'le', 'mot', 'de', 'la', 'fin', 'pour', 'nous', 'parler', 'de', 'votre', 'actualité', '.', 'Peut', 'être', 'donner', 'envie', 'aux', 'auditeurs', 'qui', 'nous', 'écoutent', 'de', 'venir', 'vous', 'ou', 'vous', 'découvrir', '.', 'Ou', 'peut', 'être', 'redécouvrir', '.', 'Oui', ',', 'écoutez', ',', 'je', 'donne', 'un', 'récital', 'de', 'chansons', 'très', 'drôles', 'et', 'très', 'croustillantes', 'sur', 'des', 'portraits', 'de', 'femmes', 'qui', \"s'appellent\", 'Tout', 'feu', ',', 'tout', 'femme', 'au', 'Théâtre', 'de', 'Poche', ',', 'les', 'lundis', 'à', '21 h', '.', 'Mais', 'ce', 'sera', \"jusqu'au\", '7 novembre', '.', 'Ensuite', ',', 'je', 'mets', 'en', 'scène', 'une', 'opérette', 'dans', 'laquelle', 'je', 'joue', 'à', \"l'Opéra\", 'de', 'Tours', ',', 'une', 'très', 'jolie', 'opérette', 'qui', \"s'intitule\", 'Ô', 'mon', 'belle', 'inconnue', ',', 'de', 'Sacha', 'Guitry', 'et', 'Reynaldo', 'Hahn', '.', 'Merci', 'beaucoup', ',', 'M', '.', 'De', 'Merci', 'à', 'vous', '.', 'Merci', \"d'avoir\", 'écouté', 'le', 'debrief', 'des', 'Grosses', 'Têtes', '.', 'Soyez', 'au', 'rendez', 'vous', 'demain', 'pour', 'une', 'nouvelle', 'émission', 'à', '15 h 30', 'sur', 'RTL', 'ou', 'encore', 'en', 'replay', 'sur', \"l'application\", 'et', 'bien', 'sûr', 'toutes', 'nos', 'plateformes', 'partenaires', '.', 'Vous', 'souhaitez', 'assister', 'au', 'spectacle', 'des', 'Grosses', 'Têtes', 'Pour', 'venir', 'à', 'leurs', 'côtés', '.', 'En', 'studio', ',', 'il', 'suffit', 'de', 'vous', 'inscrire', 'sur', 'public', '.', 'RTL', 'fr', 'a', 'très', 'vite', '.']\n"
     ]
    }
   ],
   "source": [
    "job_result = client.get_job_result('c5bmeknnaz')\n",
    "# print(job_result)\n",
    "\n",
    "content = [result['alternatives'][0]['content']\n",
    "            for result in job_result['results']]  # Example of how you could extract the content\n",
    "print(content)"
   ]
  }
 ],
 "metadata": {
  "interpreter": {
   "hash": "28ebdbbcd4e536c16ca0781a1878f516c649e1bc5e6db325c16e45038fdd82b1"
  },
  "kernelspec": {
   "display_name": "Python 3.10.6 ('speechmatics')",
   "language": "python",
   "name": "python3"
  },
  "language_info": {
   "codemirror_mode": {
    "name": "ipython",
    "version": 3
   },
   "file_extension": ".py",
   "mimetype": "text/x-python",
   "name": "python",
   "nbconvert_exporter": "python",
   "pygments_lexer": "ipython3",
   "version": "3.10.6"
  },
  "orig_nbformat": 4
 },
 "nbformat": 4,
 "nbformat_minor": 2
}
